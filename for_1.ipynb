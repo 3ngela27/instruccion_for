{
  "nbformat": 4,
  "nbformat_minor": 0,
  "metadata": {
    "colab": {
      "provenance": [],
      "authorship_tag": "ABX9TyOBgDrI8KTsqDOZRe9tzU6b",
      "include_colab_link": true
    },
    "kernelspec": {
      "name": "python3",
      "display_name": "Python 3"
    },
    "language_info": {
      "name": "python"
    }
  },
  "cells": [
    {
      "cell_type": "markdown",
      "metadata": {
        "id": "view-in-github",
        "colab_type": "text"
      },
      "source": [
        "<a href=\"https://colab.research.google.com/github/3ngela27/instruccion_for/blob/main/for_1.ipynb\" target=\"_parent\"><img src=\"https://colab.research.google.com/assets/colab-badge.svg\" alt=\"Open In Colab\"/></a>"
      ]
    },
    {
      "cell_type": "markdown",
      "source": [
        "# Estructura repetitiva for\n",
        "\n",
        "\n",
        "1.  es una estructura para\n",
        "\n",
        "\n"
      ],
      "metadata": {
        "id": "3dYjlC-jTQ9A"
      }
    },
    {
      "cell_type": "code",
      "source": [
        "print(\"bienvenidos a google colaboratory\")\n",
        "\n",
        "# programa N. 1 instruuccion for\n",
        "# mostrar  la suma de los diez primeros numeros naturales\n",
        "\n",
        "#input\n",
        "\n",
        "#porcessig\n",
        "suma = 0\n",
        "serie = list(range(1,11))\n",
        "for i in range(1,101):\n",
        "   suma = suma + i\n",
        "\n",
        "#output\n",
        "print(\"la suma es: \" + str(suma))\n",
        "print(serie)"
      ],
      "metadata": {
        "colab": {
          "base_uri": "https://localhost:8080/"
        },
        "id": "6XEzpbe8St9W",
        "outputId": "0a0580fc-ead6-4c11-cddf-cb7fb0710123"
      },
      "execution_count": 5,
      "outputs": [
        {
          "output_type": "stream",
          "name": "stdout",
          "text": [
            "bienvenidos a google colaboratory\n",
            "la suma es: 5050\n",
            "[1, 2, 3, 4, 5, 6, 7, 8, 9, 10]\n"
          ]
        }
      ]
    },
    {
      "cell_type": "markdown",
      "source": [
        "¿para que sirve la instruccion FOR?\n",
        "La instrucción for en Python se utiliza para iterar sobre elementos de una secuencia, como listas, tuplas, diccionarios, cadenas, entre otros. Permite ejecutar un bloque de código repetidamente para cada elemento de la secuencia.\n",
        "\n",
        "ejemplos:\n",
        " si tienes una lista de números y quieres imprimir cada número, puedes usar un bucle for para iterar sobre la lista e imprimir cada numero\n",
        "\n",
        " 1. literar sobre una lista:\n",
        "\n",
        "frutas = [\"manzana\", \"banana\", \"naranja\"]\n",
        "for fruta in frutas:\n",
        "    print(fruta)\n",
        "\n",
        "¿para que sirve laa instruccion range?\n",
        "La función range() en Python se utiliza para generar una secuencia de números en un rango específico. Es comúnmente utilizado en combinación con la instrucción for para iterar sobre una secuencia de números.\n",
        "   \n",
        "\n",
        "\n"
      ],
      "metadata": {
        "id": "ZhsucNb7X9L9"
      }
    }
  ]
}